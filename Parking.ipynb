{
 "cells": [
  {
   "cell_type": "code",
   "execution_count": 41,
   "id": "4b5c8831",
   "metadata": {},
   "outputs": [],
   "source": [
    "import pandas as pd"
   ]
  },
  {
   "cell_type": "code",
   "execution_count": 42,
   "id": "091279d7",
   "metadata": {},
   "outputs": [],
   "source": [
    "df = pd.read_csv('311_Service_Requests_2020.csv')"
   ]
  },
  {
   "cell_type": "code",
   "execution_count": 43,
   "id": "ef9dd93e",
   "metadata": {},
   "outputs": [],
   "source": [
    "#all complaints in zip 10025:\n",
    "df_zip = df.loc[df['Incident Zip'] == 10025]\n",
    "\n",
    "#all complaints on illegal parking:\n",
    "df_illegalparking = df.loc[df['Complaint Type'] == 'Illegal Parking']\n",
    "\n",
    "#all complaints on illegal parking in zip 10025:\n",
    "df_zip_illegalparking = df_zip.loc[df['Complaint Type'] == 'Illegal Parking']"
   ]
  },
  {
   "cell_type": "code",
   "execution_count": 44,
   "id": "9791da5f",
   "metadata": {},
   "outputs": [],
   "source": [
    "#proportion parking incidents in zip over total incidents in zip:\n",
    "proportion_zip = df_zip_illegalparking.shape[0]/df_zip.shape[0]\n",
    "\n",
    "#proportion parking incidents over total incidents:\n",
    "proportion_global = df_illegalparking.shape[0]/df.shape[0]\n"
   ]
  },
  {
   "cell_type": "code",
   "execution_count": 45,
   "id": "20dd1623",
   "metadata": {},
   "outputs": [],
   "source": [
    "if proportion_zip > proportion_global:\n",
    "    higher_parking_proportion = True\n",
    "else:\n",
    "    higher_parking_proportion = False\n",
    "    "
   ]
  }
 ],
 "metadata": {
  "kernelspec": {
   "display_name": "Python 3",
   "language": "python",
   "name": "python3"
  },
  "language_info": {
   "codemirror_mode": {
    "name": "ipython",
    "version": 3
   },
   "file_extension": ".py",
   "mimetype": "text/x-python",
   "name": "python",
   "nbconvert_exporter": "python",
   "pygments_lexer": "ipython3",
   "version": "3.8.8"
  }
 },
 "nbformat": 4,
 "nbformat_minor": 5
}
